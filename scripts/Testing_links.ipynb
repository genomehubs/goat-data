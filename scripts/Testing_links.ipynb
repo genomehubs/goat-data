{
 "cells": [
  {
   "cell_type": "code",
   "execution_count": 2,
   "metadata": {},
   "outputs": [],
   "source": [
    "import pandas as pd\n",
    "import data_curation_lib as isl\n"
   ]
  },
  {
   "cell_type": "code",
   "execution_count": null,
   "metadata": {},
   "outputs": [],
   "source": [
    "chile= isl.processing_schema_2_5_lists(\"1000GCH\",\"https://docs.google.com/spreadsheets/d/e/2PACX-1vS94ddXwmjZfV84znAR3I0nLMSzR0uMAYXpyCDOT32qnTcrYvcWY_AnzQlBbRxWtB2C5tGU2Nz9Obrt/pub?gid=1678599257&single=true&output=tsv\",7)"
   ]
  },
  {
   "cell_type": "code",
   "execution_count": null,
   "metadata": {},
   "outputs": [],
   "source": [
    "erga_com = isl.processing_schema_2_5_lists('ERGA-COM', \"https://docs.google.com/spreadsheets/d/e/2PACX-1vR4VxKfPvsEIBjGuVGvyA1NyFfPHru1XlF7gA-s1ulTEx6ygMqBlvxCPuVgw22AWf_oyadkLNwNdjf-/pub?gid=0&single=true&output=tsv\", 7)"
   ]
  },
  {
   "cell_type": "code",
   "execution_count": null,
   "metadata": {},
   "outputs": [
    {
     "name": "stdout",
     "output_type": "stream",
     "text": [
      "          common_name               family            order  \\\n",
      "0             chicken          Phasianidae      Galliformes   \n",
      "1  gold dust stingray     Potamotrygonidae  Myliobatiformes   \n",
      "2  royal ground snake           Dipsadidae         Squamata   \n",
      "3  Puerto Rican coqui  Eleutherodactylidae            Anura   \n",
      "4             vaquita          Phocoenidae     Artiodactyla   \n",
      "\n",
      "           scientific_name           status  taxon_id vgp_phase long_list  \\\n",
      "0            Gallus gallus    7-asm_curated      9031     other       VGP   \n",
      "1     Potamotrygon marinae   4-asm_progress         0    phase1       VGP   \n",
      "2   Erythrolamprus reginae      3-data_done    121349    phase2       VGP   \n",
      "3  Eleutherodactylus coqui  1-DNA_isolation     57060    phase1       VGP   \n",
      "4           Phocoena sinus           8-NCBI     42100    phase1       VGP   \n",
      "\n",
      "  sample_collected sample_acquired in_progress insdc_submitted insdc_open  \\\n",
      "0              VGP             VGP         VGP             NaN        NaN   \n",
      "1              VGP             VGP         VGP             NaN        NaN   \n",
      "2              VGP             VGP         VGP             NaN        NaN   \n",
      "3              VGP             VGP         VGP             NaN        NaN   \n",
      "4              VGP             VGP         VGP             VGP        VGP   \n",
      "\n",
      "   published  \n",
      "0        NaN  \n",
      "1        NaN  \n",
      "2        NaN  \n",
      "3        NaN  \n",
      "4        NaN  \n",
      "File saved successfully as vgp.tsv\n"
     ]
    }
   ],
   "source": [
    "isl.fetch_and_save_tsv(\"https://goat.cog.sanger.ac.uk/sources/status-lists/vgp.tsv\", \"vgp.tsv\")"
   ]
  },
  {
   "cell_type": "code",
   "execution_count": 4,
   "metadata": {},
   "outputs": [
    {
     "name": "stdout",
     "output_type": "stream",
     "text": [
      "         nOrder  ARK Superorder     Family Accession VGP_accession   Class  \\\n",
      "0  Myxiniformes  NaN          -  Myxinidae       NaN       fEptAce  Myxini   \n",
      "1  Myxiniformes  NaN          -  Myxinidae       NaN       fEptAla  Myxini   \n",
      "2  Myxiniformes  NaN          -  Myxinidae       NaN       fEptAnc  Myxini   \n",
      "3  Myxiniformes  NaN          -  Myxinidae       NaN       fEptAst  Myxini   \n",
      "4  Myxiniformes  NaN          -  Myxinidae       NaN       fEptAta  Myxini   \n",
      "\n",
      "  SpeciesE       Genus      Species long_list  \n",
      "0        -  Eptatretus       aceroi       VGP  \n",
      "1        -  Eptatretus    alastairi       VGP  \n",
      "2        -  Eptatretus        ancon       VGP  \n",
      "3        -  Eptatretus  astrolabium       VGP  \n",
      "4        -  Eptatretus        atami       VGP  \n",
      "File saved successfully as vgp_longlist.tsv\n"
     ]
    },
    {
     "name": "stderr",
     "output_type": "stream",
     "text": [
      "c:\\Users\\fchen13\\ASU Dropbox\\Fang Chen\\Work Documents\\EBP\\goat-data\\scripts\\data_curation_lib.py:219: DtypeWarning: Columns (4) have mixed types. Specify dtype option on import or set low_memory=False.\n",
      "  data = pd.read_csv(StringIO(response.text), sep='\\t')\n"
     ]
    }
   ],
   "source": [
    "isl.fetch_and_save_tsv(\"https://goat.cog.sanger.ac.uk/sources/status-lists/vgp_longlist.tsv\", \"vgp_longlist.tsv\")"
   ]
  },
  {
   "cell_type": "code",
   "execution_count": 5,
   "metadata": {},
   "outputs": [
    {
     "name": "stdout",
     "output_type": "stream",
     "text": [
      "          common_name               family            order  \\\n",
      "0             chicken          Phasianidae      Galliformes   \n",
      "1  gold dust stingray     Potamotrygonidae  Myliobatiformes   \n",
      "2  royal ground snake           Dipsadidae         Squamata   \n",
      "3  Puerto Rican coqui  Eleutherodactylidae            Anura   \n",
      "4             vaquita          Phocoenidae     Artiodactyla   \n",
      "\n",
      "           scientific_name           status  taxon_id vgp_phase  \n",
      "0            Gallus gallus    7-asm_curated      9031     other  \n",
      "1     Potamotrygon marinae   4-asm_progress         0    phase1  \n",
      "2   Erythrolamprus reginae      3-data_done    121349    phase2  \n",
      "3  Eleutherodactylus coqui  1-DNA_isolation     57060    phase1  \n",
      "4           Phocoena sinus           8-NCBI     42100    phase1  \n",
      "File saved successfully as vgl.tsv\n"
     ]
    }
   ],
   "source": [
    "isl.fetch_and_save_tsv(\"https://goat.cog.sanger.ac.uk/sources/status-lists/vgl.tsv\", \"vgl.tsv\")"
   ]
  },
  {
   "cell_type": "code",
   "execution_count": null,
   "metadata": {},
   "outputs": [],
   "source": []
  },
  {
   "cell_type": "code",
   "execution_count": 52,
   "metadata": {},
   "outputs": [],
   "source": [
    "canbp = pd.read_csv(\"https://docs.google.com/spreadsheets/d/e/2PACX-1vSfIsF1nJsnO7uwllZ4jg10KIxYMWllDzk8JXKY6ayKAOgAwker8QFxyQb7SkAW5XSrSeCgRRIR0s--/pub?gid=1666402980&single=true&output=tsv\", quoting=3, delimiter=\"\\t\", header=7)"
   ]
  },
  {
   "cell_type": "code",
   "execution_count": 54,
   "metadata": {},
   "outputs": [],
   "source": [
    "cgp = pd.read_csv('https://raw.githubusercontent.com/PAMorin/Cetacean-Genomes-Project/main/CGP_species_goat_masterlist.tsv', sep=\"\\t\", dtype=object, encoding='latin-1', quoting=3)"
   ]
  }
 ],
 "metadata": {
  "kernelspec": {
   "display_name": "myenvironment",
   "language": "python",
   "name": "python3"
  },
  "language_info": {
   "codemirror_mode": {
    "name": "ipython",
    "version": 3
   },
   "file_extension": ".py",
   "mimetype": "text/x-python",
   "name": "python",
   "nbconvert_exporter": "python",
   "pygments_lexer": "ipython3",
   "version": "3.12.7"
  },
  "orig_nbformat": 4
 },
 "nbformat": 4,
 "nbformat_minor": 2
}

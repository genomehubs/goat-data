{
 "cells": [
  {
   "cell_type": "markdown",
   "metadata": {
    "vscode": {
     "languageId": "plaintext"
    }
   },
   "source": [
    "#### Description:The script is to read AEGIS long_list table and map it to GoaT format before importing into the GoaT database. the AEGIS status will be imported from Sanger STS system.\n"
   ]
  },
  {
   "cell_type": "code",
   "execution_count": 4,
   "metadata": {},
   "outputs": [],
   "source": [
    "# GoaT curation spreadsheet link:\n",
    "# https://docs.google.com/spreadsheets/d/1VDkgBFOg7ELqr3B_OXLvWOFlTYyB_A-zlq1Rbolo93c/edit?gid=1968802073#gid=1968802073\n",
    "\n",
    "# AEGIS sequencing status table:\n",
    "csv_link = \"https://docs.google.com/spreadsheets/d/e/2PACX-1vTT8yYFN0sEMxzBRWv1sPE0b9G-sB6ua5PZuCW2rcdI1ttVG3YIAmz-7E0miHc6Shwz-68k5svT1YU5/pub?gid=1968802073&single=true&output=tsv\"\n",
    "\n"
   ]
  },
  {
   "cell_type": "code",
   "execution_count": 14,
   "metadata": {},
   "outputs": [],
   "source": [
    "import pandas as pd\n",
    "import numpy as np\n",
    "import os\n",
    "import import_status_lib as isl\n"
   ]
  },
  {
   "cell_type": "code",
   "execution_count": 8,
   "metadata": {},
   "outputs": [
    {
     "name": "stdout",
     "output_type": "stream",
     "text": [
      "Available columns: ['ncbi_taxon_id\\tspecies\\tsubspecies\\tfamily\\ttarget_list_status\\tsequencing_status\\tsynonym\\tpublication_id\\tAEGIS sub-project\\t\\tTropical Crop Pests']\n"
     ]
    }
   ],
   "source": [
    "df = pd.read_csv(csv_link,\n",
    "                delimiter=\",\",\n",
    "                dtype=object,\n",
    "                skiprows=7,\n",
    "                header=0)\n",
    "print(\"Available columns:\", df.columns.tolist())"
   ]
  },
  {
   "cell_type": "code",
   "execution_count": null,
   "metadata": {},
   "outputs": [
    {
     "name": "stdout",
     "output_type": "stream",
     "text": [
      "aegis file successfuly opened. Starting cleanup...\n",
      "Loaded 669 rows and 5 columns\n",
      "Available columns: ['ncbi_taxon_id', 'species', 'family', 'sequencing_status', 'AEGIS sub-project']\n"
     ]
    }
   ],
   "source": [
    "# Select colums to import\n",
    "columns = [\n",
    "    \"ncbi_taxon_id\",\n",
    "    \"species\",\n",
    "    \"family\",\n",
    "    \"AEGIS sub-project\",\n",
    "]\n",
    "# Read the table from the link\n",
    "df = pd.read_csv(csv_link,\n",
    "                    delimiter=\"\\t\",\n",
    "                    dtype=object,\n",
    "                    usecols=columns,\n",
    "                    skiprows=7,\n",
    "                    header=0,\n",
    "                    )\n",
    "\n",
    "print('aegis file successfuly opened. Starting cleanup...')\n",
    "\n",
    "# validate the data loading\n",
    "print(f\"Loaded {df.shape[0]} rows and {df.shape[1]} columns\")\n",
    "print(\"Available columns:\", df.columns.tolist())\n"
   ]
  },
  {
   "cell_type": "code",
   "execution_count": 33,
   "metadata": {},
   "outputs": [
    {
     "name": "stderr",
     "output_type": "stream",
     "text": [
      "c:\\Users\\fchen13\\ASU Dropbox\\Fang Chen\\Work Documents\\EBP\\goat-data\\scripts\\ebp_import\\import_status_lib.py:43: FutureWarning: Downcasting behavior in `replace` is deprecated and will be removed in a future version. To retain the old behavior, explicitly call `result.infer_objects(copy=False)`. To opt-in to the future behavior, set `pd.set_option('future.no_silent_downcasting', True)`\n",
      "  project_table = project_table.replace(r\"^\\s*$\", np.nan, regex=True)\n"
     ]
    }
   ],
   "source": [
    "df_cleaned = isl.general_cleanup_for_table(df)\n",
    "df_cleaned = isl.cleanup_headers_specific_units(df_cleaned)"
   ]
  },
  {
   "cell_type": "code",
   "execution_count": 34,
   "metadata": {},
   "outputs": [
    {
     "name": "stdout",
     "output_type": "stream",
     "text": [
      "aegis file successfuly cleaned. Treating project columns...\n"
     ]
    }
   ],
   "source": [
    "print('aegis file successfuly cleaned. Treating project columns...')\n",
    "\n",
    "# Define the AEGIS variabl\n",
    "AEGIS = \"AEGIS\"\n",
    "\n",
    "# Add a column that has all values as AEGIS\n",
    "df_cleaned['long_list'] = AEGIS\n"
   ]
  },
  {
   "cell_type": "code",
   "execution_count": 36,
   "metadata": {},
   "outputs": [
    {
     "name": "stdout",
     "output_type": "stream",
     "text": [
      "Generating AEGIS.tsv file...\n"
     ]
    }
   ],
   "source": [
    "# Create new columns using possible sequencing status\n",
    "possible_seq_status = [\"sample_collected\",\"sample_acquired\",\"in_progress\",\"data_generation\",\"in_assembly\",\"insdc_submitted\",\"open\",\"insdc_open\",\"published\"]\n",
    "for item in possible_seq_status:\n",
    "    if item not in df_cleaned:\n",
    "        df_cleaned[item] = pd.Series(dtype='object')\n",
    "\n",
    "# Create mandatory columns\n",
    "mandatory_fields = [\"ncbi_taxon_id\", \"species\", \"family\", \"sequencing_status\", \"sequencing_status_aegis\", \"synonym\", \"publication_id\", \"contributing_project_lab\"]\n",
    "\n",
    "for item in mandatory_fields:\n",
    "    if item not in df_cleaned:\n",
    "        df_cleaned[item] = np.nan\n",
    "\n",
    "df_cleaned['contributing_project_lab'] = df_cleaned['aegis_sub-project'] \n",
    "  \n",
    "print(\"Generating AEGIS.tsv file...\")\n",
    "df_cleaned.to_csv(\"tsv/AEGIS_expanded.tsv\",sep=\"\\t\", index=False)"
   ]
  }
 ],
 "metadata": {
  "kernelspec": {
   "display_name": "myenvironment",
   "language": "python",
   "name": "python3"
  },
  "language_info": {
   "codemirror_mode": {
    "name": "ipython",
    "version": 3
   },
   "file_extension": ".py",
   "mimetype": "text/x-python",
   "name": "python",
   "nbconvert_exporter": "python",
   "pygments_lexer": "ipython3",
   "version": "3.12.7"
  }
 },
 "nbformat": 4,
 "nbformat_minor": 2
}

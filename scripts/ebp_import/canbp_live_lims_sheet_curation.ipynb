{
 "cells": [
  {
   "cell_type": "code",
   "execution_count": null,
   "id": "82b48fe5",
   "metadata": {},
   "outputs": [],
   "source": [
    "#!/usr/bin/env python\n",
    "# coding: utf-8\n",
    "'''\n",
    "description: script to get the target and status of the CANBP project from its current LIMS system\n",
    "'''"
   ]
  },
  {
   "cell_type": "code",
   "execution_count": 1,
   "id": "1c469aa1",
   "metadata": {},
   "outputs": [],
   "source": [
    "import pandas as pd\n",
    "import numpy as np\n",
    "import sys\n",
    "import os\n",
    "import import_status_lib as isl"
   ]
  },
  {
   "cell_type": "code",
   "execution_count": 5,
   "id": "bf9db105",
   "metadata": {},
   "outputs": [],
   "source": [
    "# original_link = https://docs.google.com/spreadsheets/d/1srUHdKEPrhL5ubQdhuEymetlM8oLpRPB2sSmxTvMIP4/edit?gid=1159288204#gid=1159288204\n",
    "tsv_link = 'https://docs.google.com/spreadsheets/d/e/2PACX-1vRRLed7e4pcS6q24wbetDiVUaYXNWr5VjjVToUiSp4DMRSRmiv4HS1lHmRRVj51xXI3Sg24fqgwaJ2l/pub?gid=824666040&single=true&output=tsv'"
   ]
  },
  {
   "cell_type": "code",
   "execution_count": 6,
   "id": "cd59780b",
   "metadata": {},
   "outputs": [],
   "source": [
    "# Select columns to import\n",
    "used_columns= [\n",
    "    \"Scientific Name\",\n",
    "    \"Common Name\",\n",
    "    \"Status\",\n",
    "    \"Summary\",\n",
    "    \"taxid\",\n",
    "]"
   ]
  },
  {
   "cell_type": "code",
   "execution_count": 7,
   "id": "872e8106",
   "metadata": {},
   "outputs": [],
   "source": [
    "# Read the table from the link and create a column with the project name\n",
    "canbp_list = pd.read_csv(tsv_link, sep='\\t',\n",
    "                         usecols=used_columns,\n",
    "                         dtype=object)\n",
    "canbp_list[\"project\"] = \"CANBP\""
   ]
  },
  {
   "cell_type": "code",
   "execution_count": null,
   "id": "413be4b9",
   "metadata": {},
   "outputs": [],
   "source": [
    "# Rename columns and clean up table using the import_status_lib functions"
   ]
  },
  {
   "cell_type": "code",
   "execution_count": 8,
   "id": "0caee37b",
   "metadata": {},
   "outputs": [],
   "source": [
    "canbp_list = isl.general_cleanup_for_table(canbp_list)\n",
    "canbp_list = isl.cleanup_headers_specific_units(canbp_list)"
   ]
  },
  {
   "cell_type": "code",
   "execution_count": 12,
   "id": "bd272e93",
   "metadata": {},
   "outputs": [],
   "source": [
    "# Create a new column with the sequencing status and translate the values to the GoaT standard\n",
    "canbp_list['sequencing_status'] = canbp_list['status'].str.lower()"
   ]
  },
  {
   "cell_type": "code",
   "execution_count": null,
   "id": "d432c439",
   "metadata": {},
   "outputs": [],
   "source": [
    "# Check unique values manually and compare with the translation in used. update the translation if needed"
   ]
  },
  {
   "cell_type": "code",
   "execution_count": 13,
   "id": "6b514153",
   "metadata": {},
   "outputs": [
    {
     "name": "stdout",
     "output_type": "stream",
     "text": [
      "['insdc_submitted' nan 'in_assembly' 'data_generation' 'paused']\n"
     ]
    }
   ],
   "source": [
    "print(canbp_list[\"sequencing_status\"].unique())\n",
    "to_translate = {\n",
    "                'data_generation, insdc_submitted': \"data_generation\",\n",
    "                'paused': \"sample_acquired\",\n",
    "                'resample needed, insdc_submitted': \"resampling_required\",\n",
    "                'sample collected, insdc_submitted': \"sample_acquired\",\n",
    "                'sample collected, paused': \"sample_collected\",\n",
    "                }\n",
    "canbp_list['sequencing_status'] = canbp_list['sequencing_status'].replace(to_translate)"
   ]
  },
  {
   "cell_type": "code",
   "execution_count": null,
   "id": "41bedc77",
   "metadata": {},
   "outputs": [],
   "source": [
    "# Create new columns with the status of the project and translate the values to the GoaT standard\n",
    "# This function is equivalent to isl.create_status_column(canbp_list, \"CANBP\"), but adds resampling_required\n",
    "# we are also fixing the problem of capitalization in the status column"
   ]
  },
  {
   "cell_type": "code",
   "execution_count": 14,
   "id": "576a73f5",
   "metadata": {},
   "outputs": [],
   "source": [
    "def create_status_column(project_table, acronym):\n",
    "    possible_seq_status = [\"resampling_required\",\"sample_collected\",\"sample_acquired\",\"in_progress\",\"data_generation\",\"in_assembly\",\"insdc_submitted\",\"open\",\"insdc_open\",\"published\"]\n",
    "    for item in possible_seq_status:   \n",
    "        if item not in project_table:\n",
    "            project_table[item] = np.nan\n",
    "    #return project_table\n",
    "    for item in possible_seq_status:        \n",
    "        project_table.loc[project_table['sequencing_status'] == item.lower(), item] = acronym\n",
    "    return project_table"
   ]
  },
  {
   "cell_type": "code",
   "execution_count": 15,
   "id": "f3a74de8",
   "metadata": {},
   "outputs": [],
   "source": [
    "# Create function that expands the status of the project based on the sequencing status, but also considering resampling_required\n",
    "def expand_sequencing_status(project_table, acronym):\n",
    "    project_table.loc[project_table[\"published\"] == acronym, \"insdc_open\"] = acronym\n",
    "    project_table.loc[project_table['insdc_open'] == acronym, 'open'] = acronym\n",
    "    project_table.loc[project_table['open'] == acronym, 'insdc_submitted'] = acronym\n",
    "    project_table.loc[project_table['insdc_submitted'] == acronym, 'in_assembly'] = acronym\n",
    "    project_table.loc[project_table['in_assembly'] == acronym, 'data_generation'] = acronym\n",
    "    project_table.loc[project_table['insdc_submitted'] == acronym, 'in_progress'] = acronym\n",
    "    project_table.loc[project_table['data_generation'] == acronym, 'in_progress'] = acronym\n",
    "    project_table.loc[project_table['in_assembly'] == acronym, 'in_progress'] = acronym\n",
    "    project_table.loc[project_table['in_progress'] == acronym, 'sample_acquired'] = acronym\n",
    "    project_table.loc[project_table['sample_acquired'] == acronym, 'sample_collected'] = acronym\n",
    "    return project_table"
   ]
  },
  {
   "cell_type": "code",
   "execution_count": 18,
   "id": "7cc71aca",
   "metadata": {},
   "outputs": [],
   "source": [
    "# Apply the new functions to the CANBP list and exprot the table\n",
    "create_status_column(canbp_list, \"CANBP\")\n",
    "expand_sequencing_status(canbp_list, \"CANBP\")\n",
    "canbp_list.to_csv(\"tsv/CANBP_livestatus_expanded.tsv\", sep=\"\\t\", index=False)"
   ]
  }
 ],
 "metadata": {
  "kernelspec": {
   "display_name": "Python (myenvironment)",
   "language": "python",
   "name": "myenvironment"
  },
  "language_info": {
   "codemirror_mode": {
    "name": "ipython",
    "version": 3
   },
   "file_extension": ".py",
   "mimetype": "text/x-python",
   "name": "python",
   "nbconvert_exporter": "python",
   "pygments_lexer": "ipython3",
   "version": "3.12.7"
  }
 },
 "nbformat": 4,
 "nbformat_minor": 5
}

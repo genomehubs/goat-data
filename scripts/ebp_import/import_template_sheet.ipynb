{
 "cells": [
  {
   "cell_type": "code",
   "execution_count": 1,
   "metadata": {},
   "outputs": [],
   "source": [
    "import pandas as pd\n",
    "import importlib\n",
    "import import_lib as il\n",
    "#importlib.reload(il)"
   ]
  },
  {
   "cell_type": "code",
   "execution_count": 7,
   "metadata": {},
   "outputs": [
    {
     "name": "stdout",
     "output_type": "stream",
     "text": [
      "Opening EBPHK URL...\n",
      "File opened successfully with utf-8 encoding.\n",
      "Cleaning up EBPHK table...\n",
      "Expanding EBPHK target status...\n",
      "Expanding EBPHK sequencing status...\n",
      "creating EBPHK mandatory fields ...\n",
      "Saving EBPHK to file...\n"
     ]
    },
    {
     "name": "stderr",
     "output_type": "stream",
     "text": [
      "c:\\Users\\fchen13\\ASU Dropbox\\Fang Chen\\Work Documents\\EBP\\goat-data\\scripts\\ebp_import\\test_notebooks\\import_lib.py:58: FutureWarning: Downcasting behavior in `replace` is deprecated and will be removed in a future version. To retain the old behavior, explicitly call `result.infer_objects(copy=False)`. To opt-in to the future behavior, set `pd.set_option('future.no_silent_downcasting', True)`\n",
      "  project_table = project_table.replace(r\"^\\s*$\", np.nan, regex=True).infer_objects(copy=False)\n"
     ]
    }
   ],
   "source": [
    "ebphk = il.processing_schema_2_5_lists(\"EBPHK\", \"https://docs.google.com/spreadsheets/d/e/2PACX-1vTQpfCmCHOIunnXsqWyvRk2igahquA-7BkvmgwsRcqBMuvS7eLRDzISux2lSFjNC3u6kBcpkbZZo-ef/pub?gid=1678599257&single=true&output=tsv\", 7) "
   ]
  },
  {
   "cell_type": "code",
   "execution_count": 9,
   "metadata": {},
   "outputs": [
    {
     "name": "stdout",
     "output_type": "stream",
     "text": [
      "Opening ERGA-COM URL...\n",
      "File opened successfully with utf-8 encoding.\n",
      "Cleaning up ERGA-COM table...\n",
      "Expanding ERGA-COM target status...\n",
      "Expanding ERGA-COM sequencing status...\n",
      "creating ERGA-COM mandatory fields ...\n",
      "Saving ERGA-COM to file...\n"
     ]
    },
    {
     "name": "stderr",
     "output_type": "stream",
     "text": [
      "c:\\Users\\fchen13\\ASU Dropbox\\Fang Chen\\Work Documents\\EBP\\goat-data\\scripts\\data_curation_lib.py:58: FutureWarning: Downcasting behavior in `replace` is deprecated and will be removed in a future version. To retain the old behavior, explicitly call `result.infer_objects(copy=False)`. To opt-in to the future behavior, set `pd.set_option('future.no_silent_downcasting', True)`\n",
      "  project_table = project_table.replace(r\"^\\s*$\", np.nan, regex=True).infer_objects()\n"
     ]
    }
   ],
   "source": [
    "erga_com = il.processing_schema_2_5_lists('ERGA-COM', \"https://docs.google.com/spreadsheets/d/e/2PACX-1vR4VxKfPvsEIBjGuVGvyA1NyFfPHru1XlF7gA-s1ulTEx6ygMqBlvxCPuVgw22AWf_oyadkLNwNdjf-/pub?gid=0&single=true&output=tsv\", 7)"
   ]
  },
  {
   "cell_type": "code",
   "execution_count": 10,
   "metadata": {},
   "outputs": [
    {
     "name": "stdout",
     "output_type": "stream",
     "text": [
      "Opening WA URL...\n",
      "File opened successfully with utf-8 encoding.\n",
      "Cleaning up WA table...\n",
      "Expanding WA target status...\n",
      "Expanding WA sequencing status...\n",
      "creating WA mandatory fields ...\n",
      "Saving WA to file...\n"
     ]
    },
    {
     "name": "stderr",
     "output_type": "stream",
     "text": [
      "c:\\Users\\fchen13\\ASU Dropbox\\Fang Chen\\Work Documents\\EBP\\goat-data\\scripts\\data_curation_lib.py:58: FutureWarning: Downcasting behavior in `replace` is deprecated and will be removed in a future version. To retain the old behavior, explicitly call `result.infer_objects(copy=False)`. To opt-in to the future behavior, set `pd.set_option('future.no_silent_downcasting', True)`\n",
      "  project_table = project_table.replace(r\"^\\s*$\", np.nan, regex=True).infer_objects()\n"
     ]
    }
   ],
   "source": [
    "wa = dcl.processing_schema_2_5_lists(\"WA\", \"https://docs.google.com/spreadsheets/d/e/2PACX-1vR-6Yb9vdgGmMqObbV9AH6OwIyo9Q3jjohoJepUCPv19wiziCY4wDXHMcyEhRaHIfCKvogg9hKjA8O-/pub?gid=0&single=true&output=tsv\", 7)"
   ]
  },
  {
   "cell_type": "code",
   "execution_count": 52,
   "metadata": {},
   "outputs": [],
   "source": [
    "canbp = pd.read_csv(\"https://docs.google.com/spreadsheets/d/e/2PACX-1vSfIsF1nJsnO7uwllZ4jg10KIxYMWllDzk8JXKY6ayKAOgAwker8QFxyQb7SkAW5XSrSeCgRRIR0s--/pub?gid=1666402980&single=true&output=tsv\", quoting=3, delimiter=\"\\t\", header=7)"
   ]
  },
  {
   "cell_type": "code",
   "execution_count": 54,
   "metadata": {},
   "outputs": [],
   "source": [
    "cgp = pd.read_csv('https://raw.githubusercontent.com/PAMorin/Cetacean-Genomes-Project/main/CGP_species_goat_masterlist.tsv', sep=\"\\t\", dtype=object, encoding='latin-1', quoting=3)"
   ]
  }
 ],
 "metadata": {
  "kernelspec": {
   "display_name": "myenvironment",
   "language": "python",
   "name": "python3"
  },
  "language_info": {
   "codemirror_mode": {
    "name": "ipython",
    "version": 3
   },
   "file_extension": ".py",
   "mimetype": "text/x-python",
   "name": "python",
   "nbconvert_exporter": "python",
   "pygments_lexer": "ipython3",
   "version": "3.12.7"
  },
  "orig_nbformat": 4
 },
 "nbformat": 4,
 "nbformat_minor": 2
}

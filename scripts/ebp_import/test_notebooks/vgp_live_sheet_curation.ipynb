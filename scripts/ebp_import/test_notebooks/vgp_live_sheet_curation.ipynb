{
 "cells": [
  {
   "cell_type": "markdown",
   "metadata": {},
   "source": [
    "Description:This script reads the VGP Ordinal Phase1+ table and cleans it up before importing into the GoaT database.\n"
   ]
  },
  {
   "cell_type": "code",
   "execution_count": 1,
   "metadata": {},
   "outputs": [],
   "source": [
    "import pandas as pd\n",
    "import numpy as np\n",
    "\n",
    "# Google Spreadsheet link:\n",
    "# https://docs.google.com/spreadsheets/d/1vsV7OTU-BAeOkBSrsESGCHaGuLcFW6U9mUluy6II0tY/edit?gid=0#gid=0\n",
    "#Download link:\n",
    "tsv_link = \"https://docs.google.com/spreadsheets/d/1Jwjv6Kwc6VIn1UMMhnG6kvFCxjwGdC5b7p_HtbDOMOs/export?format=tsv&id=1Jwjv6Kwc6VIn1UMMhnG6kvFCxjwGdC5b7p_HtbDOMOs&gid=1380659438\"\n"
   ]
  },
  {
   "cell_type": "code",
   "execution_count": 2,
   "metadata": {},
   "outputs": [
    {
     "name": "stdout",
     "output_type": "stream",
     "text": [
      "Vgp file successfuly opened. Starting cleanup...\n"
     ]
    }
   ],
   "source": [
    "# Select columns to import\n",
    "columns = [\n",
    "    \"Order\",\n",
    "    \"Lineage\",\n",
    "    \"Superorder\",\n",
    "    \"Family Scientific Name\",\n",
    "    \"Scientific Name\",\n",
    "    \"English Name\",\n",
    "    \"NCBI taxon ID\",\n",
    "    \"Status\",\n",
    "    \"QV\",\n",
    "    \"IUCN (2016-2024)\",\n",
    "    \"CITES\",\n",
    "    \"Main project\",\n",
    "    \"Second project\",\n",
    "    \"Initial Publication\"\n",
    "]\n",
    "# Read the table from the link\n",
    "vgp_df = pd.read_csv(tsv_link,\n",
    "                    delimiter=\"\\t\",\n",
    "                    dtype=object,\n",
    "                    usecols=columns\n",
    "                    )\n",
    "\n",
    "print('Vgp file successfuly opened. Starting cleanup...')\n"
   ]
  },
  {
   "cell_type": "code",
   "execution_count": 3,
   "metadata": {},
   "outputs": [],
   "source": [
    "def vgp_table_cleanup(df):\n",
    "    \"\"\"\n",
    "    Cleans up a pandas DataFrame by performing the following actions:\n",
    "    - Replaces empty or whitespace-only strings with NaN.\n",
    "    - Strips leading and trailing spaces from all string values.\n",
    "    - Drops columns and rows where all values are NaN.\n",
    "    \n",
    "    Args:\n",
    "        df (pandas.DataFrame): The input DataFrame to be cleaned.\n",
    "\n",
    "    Returns:\n",
    "        pandas.DataFrame: The cleaned DataFrame.\n",
    "    \"\"\"\n",
    "    df = df.replace(r'^\\s*$', np.nan, regex=True)\n",
    "    df = df.replace(r\"^ +| +$\", r\"\", regex=True)\n",
    "    df.dropna(how=\"all\", axis=1, inplace=True)\n",
    "    df.dropna(how=\"all\", axis=0, inplace=True)\n",
    "    return df\n",
    "\n",
    "def cleanup_vgp_headers_specific_units(df):\n",
    "    \"\"\"\n",
    "    Cleans up the headers of a VGP table by performing the following actions:\n",
    "    - Replaces spaces with underscores.\n",
    "    - Converts all characters to lowercase.\n",
    "    - Removes parentheses.\n",
    "\n",
    "    Args:\n",
    "\n",
    "        df (pandas.DataFrame): The input DataFrame to be cleaned.\n",
    "\n",
    "    Returns:\n",
    "        pandas.DataFrame: The cleaned DataFrame.\n",
    "    \"\"\"\n",
    "    df.columns = (\n",
    "        df.columns\n",
    "        .str.replace(' ', '_')\n",
    "        .str.replace(r'\\(', '',regex=True)\n",
    "        .str.replace(r'\\)', '',regex=True)\n",
    "        .str.lower()\n",
    "    )\n",
    "    return df\n"
   ]
  },
  {
   "cell_type": "code",
   "execution_count": 4,
   "metadata": {},
   "outputs": [
    {
     "name": "stdout",
     "output_type": "stream",
     "text": [
      "Vgp file successfuly cleaned. Treating project columns...\n"
     ]
    },
    {
     "name": "stderr",
     "output_type": "stream",
     "text": [
      "C:\\Users\\fchen13\\AppData\\Local\\Temp\\ipykernel_9040\\3165366096.py:14: FutureWarning: Downcasting behavior in `replace` is deprecated and will be removed in a future version. To retain the old behavior, explicitly call `result.infer_objects(copy=False)`. To opt-in to the future behavior, set `pd.set_option('future.no_silent_downcasting', True)`\n",
      "  df = df.replace(r'^\\s*$', np.nan, regex=True)\n"
     ]
    }
   ],
   "source": [
    "# Clean up the table:\n",
    "vgp_df = cleanup_vgp_headers_specific_units(vgp_table_cleanup(vgp_df))\n",
    "\n",
    "print('Vgp file successfuly cleaned. Treating project columns...')\n",
    "\n",
    "# Add a project column to the table\n",
    "vgp_df[\"project\"] = \"VGP\""
   ]
  },
  {
   "cell_type": "code",
   "execution_count": 5,
   "metadata": {},
   "outputs": [
    {
     "name": "stdout",
     "output_type": "stream",
     "text": [
      "chech if any above should be translated to project acronym. Expanding status columns...\n"
     ]
    }
   ],
   "source": [
    "# Translate the project names to acronyms when they are valid EBP projects, check for projects that need acronyms added using the following code\n",
    "translate_to_acronyms = {\n",
    "                            'Sanger 25G':'25GP',\n",
    "                            'AfricaBP': 'AFRICABP', \n",
    "                            'Cetacean GP': 'CGP',\n",
    "                            'DToL': 'DTOL',\n",
    "                            'DToL?': 'DTOL',\n",
    "                            'Yggdrasil': 'YGG',\n",
    "                            'CatalanBP': 'CBP',\n",
    "                            'Canadian Biogenome Project': 'CANBP',\n",
    "                            'Threatened Species Initiative (TSI)': 'TSI',\n",
    "                            'Canada Biogenome Project': 'CANBP',\n",
    "                            'Minderoo OceanOmics': 'OG',\n",
    "                            'Sanger 25G project': '25GP',\n",
    "                            'DToL, ERGA': 'DTOL, ERGA'\n",
    "                        }\n",
    "\n",
    "# Map the acronyms to the each column individual\n",
    "columns_to_map = ['main_project', 'second_project', 'project'] \n",
    "\n",
    "for col in columns_to_map:\n",
    "    vgp_df[col] = vgp_df[col].map(lambda i: translate_to_acronyms[i] if i in translate_to_acronyms else i)\n",
    "\n",
    "print('chech if any above should be translated to project acronym. Expanding status columns...')"
   ]
  },
  {
   "cell_type": "code",
   "execution_count": 6,
   "metadata": {},
   "outputs": [
    {
     "name": "stdout",
     "output_type": "stream",
     "text": [
      "['VGP' 'Amazoomics : Genomics of Brazilian Biodiversity' 'T2T'\n",
      " 'Allen Institute' '25GP' 'ERGA' 'Cohen Lab' nan 'DTOL' 'CCGP'\n",
      " 'Revive & Restore' 'AFRICABP' 'CGP' 'Individual' 'Narwhal project'\n",
      " 'Ruminant T2T' 'Cattle' 'Collosal' 'YGG' 'Paratus' 'Bat1K' 'COVID-19'\n",
      " 'Invidual' 'AmaZoomics : Genomics of Brazilian Biodiversity' 'Colossal'\n",
      " 'Oz Mammals Genomics' 'Allen' 'Vocal learning' 'Brood Parasitic' 'Falcon'\n",
      " 'CBP' 'Self' 'DTOL, ERGA' 'CANBP' 'TSI' 'hypothalamus' 'Hypothalamus'\n",
      " 'OG' 'ToL']\n"
     ]
    }
   ],
   "source": [
    "print(vgp_df['main_project'].unique())"
   ]
  },
  {
   "cell_type": "code",
   "execution_count": 7,
   "metadata": {},
   "outputs": [],
   "source": [
    "# Create a column with all projects working on the species\n",
    "vgp_df['all_projects'] = vgp_df.apply(\n",
    "    lambda row: ','.join(\n",
    "        sorted(set(x for x in [row['project'], row['main_project'], row['second_project']] if pd.notna(x)))\n",
    "    ),\n",
    "    axis=1\n",
    ")\n"
   ]
  },
  {
   "cell_type": "code",
   "execution_count": 8,
   "metadata": {},
   "outputs": [
    {
     "name": "stdout",
     "output_type": "stream",
     "text": [
      "Generating VGP_Ordinal_Phase1_plus.tsv file...\n"
     ]
    },
    {
     "name": "stderr",
     "output_type": "stream",
     "text": [
      "C:\\Users\\fchen13\\AppData\\Local\\Temp\\ipykernel_9040\\3242735964.py:19: FutureWarning: Setting an item of incompatible dtype is deprecated and will raise an error in a future version of pandas. Value '['VGP' 'VGP' 'VGP' 'VGP' 'VGP' 'VGP' 'VGP' 'AFRICABP,VGP' 'VGP'\n",
      " 'AFRICABP,VGP' 'VGP' 'VGP' 'VGP' 'VGP' 'VGP' 'VGP' 'VGP' 'VGP'\n",
      " 'AFRICABP,VGP' 'VGP' 'VGP' 'VGP' 'VGP' 'VGP' 'VGP' 'VGP' 'VGP' 'VGP'\n",
      " 'VGP' 'VGP' 'VGP' 'VGP' 'VGP' 'VGP' 'VGP' 'VGP' 'VGP' 'VGP']' has dtype incompatible with float64, please explicitly cast to a compatible dtype first.\n",
      "  vgp_df.loc[vgp_df['sequencing_status'] == item, item] = vgp_df['all_projects']\n",
      "C:\\Users\\fchen13\\AppData\\Local\\Temp\\ipykernel_9040\\3242735964.py:19: FutureWarning: Setting an item of incompatible dtype is deprecated and will raise an error in a future version of pandas. Value '['Collosal,VGP' 'VGP' 'VGP' 'VGP' 'VGP' 'VGP' 'BRAIN,VGP' 'HPRC,VGP' 'VGP'\n",
      " 'VGP' 'VGP' 'VGP' 'VGP' 'VGP' '25GP,VGP' 'VGP' 'VGP' 'VGP' 'CCGP,VGP'\n",
      " 'VGP' 'DTOL,VGP' 'VGP' 'VGP' 'CGP,VGP' 'VGP' 'Ruminant T2T,VGP'\n",
      " 'Individual,VGP' 'VGP' 'Qatar,VGP' 'VGP' 'VGP' 'VGP' 'VGP' '25GP,VGP'\n",
      " 'VGP' 'VGP' 'VGP' 'VGP' 'DTOL,VGP' 'VGP' 'VGP' 'VGP' 'VGP' 'Colossal,VGP'\n",
      " 'Oz Mammals Genomics,VGP' 'VGP' 'Allen,VGP' 'VGP' 'VGP' 'RCN Manakin,VGP'\n",
      " 'VGP' 'VGP' 'VGP' 'VGP' 'VGP' 'VGP' 'VGP' 'VGP' 'B10K,VGP' 'VGP' 'VGP'\n",
      " '25GP,VGP' 'AmaZoomics : Genomics of Brazilian Biodiversity,VGP' 'VGP'\n",
      " 'VGP' 'DTOL,VGP' 'VGP' 'VGP' 'DTOL,VGP' 'VGP' 'VGP' 'DTOL,VGP' 'VGP'\n",
      " 'DTOL,VGP' 'VGP' 'VGP' 'VGP' 'VGP' 'VGP' 'DTOL,VGP' 'VGP' 'VGP' 'VGP'\n",
      " 'Qatar,VGP' 'VGP' 'VGP' 'VGP' '25GP,VGP' 'VGP' 'VGP' 'VGP' 'VGP'\n",
      " 'VGP,YGG' 'VGP' 'VGP' 'VGP' 'VGP' 'VGP' 'Individual,VGP' 'VGP' 'VGP'\n",
      " 'VGP' 'VGP' 'VGP' 'CANBP,VGP' 'VGP' 'TSI,VGP'\n",
      " 'Amazoomics : Genomics of Brazilian Biodiversity,VGP' 'VGP' 'VGP' 'VGP'\n",
      " 'VGP' 'VGP' 'VGP' 'CCGP,VGP' 'VGP' 'VGP' 'CCGP,VGP' 'VGP,hypothalamus'\n",
      " 'VGP' 'VGP' 'VGP' 'VGP' 'VGP' 'VGP' 'VGP' 'VGP' 'VGP' 'VGP' 'VGP' 'VGP'\n",
      " 'DTOL,VGP' 'VGP' 'Hypothalamus,VGP' 'VGP' 'VGP' 'VGP' 'VGP' 'DTOL,VGP'\n",
      " 'VGP' 'VGP' 'VGP' 'VGP' 'VGP' 'VGP' 'VGP' 'VGP' 'VGP' 'VGP' 'VGP' 'VGP'\n",
      " 'VGP' 'VGP' 'VGP' 'VGP' 'VGP' 'ERGA,VGP' 'ERGA,VGP' 'VGP' 'VGP'\n",
      " '25GP,VGP' 'VGP' 'DTOL,VGP' 'DTOL,VGP' 'DTOL,VGP' 'VGP' 'VGP' 'DTOL,VGP'\n",
      " 'VGP' 'VGP' 'DTOL,VGP' 'VGP' 'VGP' 'VGP' 'VGP' 'DTOL,VGP' 'VGP' 'VGP'\n",
      " 'VGP' 'VGP' 'VGP' 'VGP' 'ToL,VGP' 'VGP' 'VGP' 'VGP' 'VGP' 'VGP' 'VGP'\n",
      " 'DTOL,VGP' 'VGP' 'VGP' 'OG,VGP' 'VGP' 'VGP' 'VGP' 'OG,VGP' 'VGP' 'VGP'\n",
      " 'VGP' 'OG,VGP' 'VGP' 'VGP' 'DTOL,VGP' 'VGP' 'VGP' 'VGP,YGG' 'VGP' 'VGP'\n",
      " 'VGP' 'VGP' '25GP,VGP' 'VGP' 'VGP' 'VGP' 'VGP' 'VGP' 'VGP' 'VGP' 'VGP'\n",
      " 'VGP' 'VGP' 'VGP' 'DTOL,VGP' '25GP,VGP' 'Individual,VGP']' has dtype incompatible with float64, please explicitly cast to a compatible dtype first.\n",
      "  vgp_df.loc[vgp_df['sequencing_status'] == item, item] = vgp_df['all_projects']\n",
      "C:\\Users\\fchen13\\AppData\\Local\\Temp\\ipykernel_9040\\3242735964.py:27: FutureWarning: Setting an item of incompatible dtype is deprecated and will raise an error in a future version of pandas. Value '['Collosal,VGP' 'VGP' 'VGP' 'VGP' 'VGP' 'VGP' 'VGP' 'VGP' 'VGP'\n",
      " 'BRAIN,VGP' 'HPRC,VGP' 'VGP' 'VGP' 'VGP' 'VGP' 'VGP' 'VGP' 'VGP' 'VGP'\n",
      " '25GP,VGP' 'VGP' 'VGP' 'VGP' 'VGP' 'VGP' 'AFRICABP,VGP' 'CCGP,VGP' 'VGP'\n",
      " 'DTOL,VGP' 'VGP' 'VGP' 'CGP,VGP' 'VGP' 'Ruminant T2T,VGP'\n",
      " 'Individual,VGP' 'VGP' 'Qatar,VGP' 'VGP' 'VGP' 'VGP' 'VGP' '25GP,VGP'\n",
      " 'VGP' 'VGP' 'VGP' 'VGP' 'DTOL,VGP' 'VGP' 'VGP' 'VGP' 'VGP' 'Colossal,VGP'\n",
      " 'Oz Mammals Genomics,VGP' 'VGP' 'Allen,VGP' 'VGP' 'VGP' 'VGP'\n",
      " 'RCN Manakin,VGP' 'VGP' 'VGP' 'VGP' 'VGP' 'VGP' 'VGP' 'VGP' 'VGP'\n",
      " 'B10K,VGP' 'VGP' 'VGP' '25GP,VGP'\n",
      " 'AmaZoomics : Genomics of Brazilian Biodiversity,VGP' 'VGP'\n",
      " 'AFRICABP,VGP' 'VGP' 'DTOL,VGP' 'VGP' 'VGP' 'DTOL,VGP' 'VGP' 'VGP'\n",
      " 'DTOL,VGP' 'VGP' 'DTOL,VGP' 'VGP' 'VGP' 'VGP' 'VGP' 'VGP' 'DTOL,VGP'\n",
      " 'VGP' 'VGP' 'VGP' 'VGP' 'Qatar,VGP' 'VGP' 'VGP' 'VGP' 'VGP' '25GP,VGP'\n",
      " 'VGP' 'VGP' 'VGP' 'VGP' 'VGP' 'VGP,YGG' 'VGP' 'VGP' 'VGP' 'VGP' 'VGP'\n",
      " 'VGP' 'Individual,VGP' 'VGP' 'VGP' 'VGP' 'VGP' 'VGP' 'VGP' 'CANBP,VGP'\n",
      " 'VGP' 'VGP' 'VGP' 'TSI,VGP' 'VGP'\n",
      " 'Amazoomics : Genomics of Brazilian Biodiversity,VGP' 'VGP' 'VGP' 'VGP'\n",
      " 'AFRICABP,VGP' 'VGP' 'VGP' 'VGP' 'CCGP,VGP' 'VGP' 'VGP' 'CCGP,VGP'\n",
      " 'VGP,hypothalamus' 'VGP' 'VGP' 'VGP' 'VGP' 'VGP' 'VGP' 'VGP' 'VGP' 'VGP'\n",
      " 'VGP' 'VGP' 'VGP' 'VGP' 'VGP' 'DTOL,VGP' 'VGP' 'Hypothalamus,VGP' 'VGP'\n",
      " 'VGP' 'VGP' 'VGP' 'VGP' 'DTOL,VGP' 'VGP' 'VGP' 'VGP' 'VGP' 'VGP' 'VGP'\n",
      " 'VGP' 'VGP' 'VGP' 'VGP' 'VGP' 'VGP' 'VGP' 'VGP' 'VGP' 'VGP' 'VGP' 'VGP'\n",
      " 'VGP' 'VGP' 'VGP' 'VGP' 'VGP' 'VGP' 'VGP' 'VGP' 'ERGA,VGP' 'VGP'\n",
      " 'ERGA,VGP' 'VGP' 'VGP' '25GP,VGP' 'VGP' 'DTOL,VGP' 'DTOL,VGP' 'DTOL,VGP'\n",
      " 'VGP' 'VGP' 'DTOL,VGP' 'VGP' 'VGP' 'VGP' 'DTOL,VGP' 'VGP' 'VGP' 'VGP'\n",
      " 'VGP' 'VGP' 'DTOL,VGP' 'VGP' 'VGP' 'VGP' 'VGP' 'VGP' 'VGP' 'ToL,VGP'\n",
      " 'VGP' 'VGP' 'VGP' 'VGP' 'VGP' 'VGP' 'DTOL,VGP' 'VGP' 'VGP' 'OG,VGP' 'VGP'\n",
      " 'VGP' 'VGP' 'VGP' 'VGP' 'OG,VGP' 'VGP' 'VGP' 'VGP' 'OG,VGP' 'VGP' 'VGP'\n",
      " 'DTOL,VGP' 'VGP' 'VGP' 'VGP,YGG' 'VGP' 'VGP' 'VGP' 'VGP' '25GP,VGP' 'VGP'\n",
      " 'VGP' 'VGP' 'VGP' 'VGP' 'VGP' 'VGP' 'VGP' 'VGP' 'VGP' 'VGP' 'VGP' 'VGP'\n",
      " 'DTOL,VGP' '25GP,VGP' 'Individual,VGP']' has dtype incompatible with float64, please explicitly cast to a compatible dtype first.\n",
      "  vgp_df.loc[vgp_df['in_progress'] == vgp_df['all_projects'], 'sample_acquired'] = vgp_df['all_projects']\n",
      "C:\\Users\\fchen13\\AppData\\Local\\Temp\\ipykernel_9040\\3242735964.py:28: FutureWarning: Setting an item of incompatible dtype is deprecated and will raise an error in a future version of pandas. Value '['Collosal,VGP' 'VGP' 'VGP' 'VGP' 'VGP' 'VGP' 'VGP' 'VGP' 'VGP'\n",
      " 'BRAIN,VGP' 'HPRC,VGP' 'VGP' 'VGP' 'VGP' 'VGP' 'VGP' 'VGP' 'VGP' 'VGP'\n",
      " '25GP,VGP' 'VGP' 'VGP' 'VGP' 'VGP' 'VGP' 'AFRICABP,VGP' 'CCGP,VGP' 'VGP'\n",
      " 'DTOL,VGP' 'VGP' 'VGP' 'CGP,VGP' 'VGP' 'Ruminant T2T,VGP'\n",
      " 'Individual,VGP' 'VGP' 'Qatar,VGP' 'VGP' 'VGP' 'VGP' 'VGP' '25GP,VGP'\n",
      " 'VGP' 'VGP' 'VGP' 'VGP' 'DTOL,VGP' 'VGP' 'VGP' 'VGP' 'VGP' 'Colossal,VGP'\n",
      " 'Oz Mammals Genomics,VGP' 'VGP' 'Allen,VGP' 'VGP' 'VGP' 'VGP'\n",
      " 'RCN Manakin,VGP' 'VGP' 'VGP' 'VGP' 'VGP' 'VGP' 'VGP' 'VGP' 'VGP'\n",
      " 'B10K,VGP' 'VGP' 'VGP' '25GP,VGP'\n",
      " 'AmaZoomics : Genomics of Brazilian Biodiversity,VGP' 'VGP'\n",
      " 'AFRICABP,VGP' 'VGP' 'DTOL,VGP' 'VGP' 'VGP' 'DTOL,VGP' 'VGP' 'VGP'\n",
      " 'DTOL,VGP' 'VGP' 'DTOL,VGP' 'VGP' 'VGP' 'VGP' 'VGP' 'VGP' 'DTOL,VGP'\n",
      " 'VGP' 'VGP' 'VGP' 'VGP' 'Qatar,VGP' 'VGP' 'VGP' 'VGP' 'VGP' '25GP,VGP'\n",
      " 'VGP' 'VGP' 'VGP' 'VGP' 'VGP' 'VGP,YGG' 'VGP' 'VGP' 'VGP' 'VGP' 'VGP'\n",
      " 'VGP' 'Individual,VGP' 'VGP' 'VGP' 'VGP' 'VGP' 'VGP' 'VGP' 'CANBP,VGP'\n",
      " 'VGP' 'VGP' 'VGP' 'TSI,VGP' 'VGP'\n",
      " 'Amazoomics : Genomics of Brazilian Biodiversity,VGP' 'VGP' 'VGP' 'VGP'\n",
      " 'AFRICABP,VGP' 'VGP' 'VGP' 'VGP' 'CCGP,VGP' 'VGP' 'VGP' 'CCGP,VGP'\n",
      " 'VGP,hypothalamus' 'VGP' 'VGP' 'VGP' 'VGP' 'VGP' 'VGP' 'VGP' 'VGP' 'VGP'\n",
      " 'VGP' 'VGP' 'VGP' 'VGP' 'VGP' 'DTOL,VGP' 'VGP' 'Hypothalamus,VGP' 'VGP'\n",
      " 'VGP' 'VGP' 'VGP' 'VGP' 'DTOL,VGP' 'VGP' 'VGP' 'VGP' 'VGP' 'VGP' 'VGP'\n",
      " 'VGP' 'VGP' 'VGP' 'VGP' 'VGP' 'VGP' 'VGP' 'VGP' 'VGP' 'VGP' 'VGP' 'VGP'\n",
      " 'VGP' 'VGP' 'VGP' 'VGP' 'VGP' 'VGP' 'VGP' 'VGP' 'ERGA,VGP' 'VGP'\n",
      " 'ERGA,VGP' 'VGP' 'VGP' '25GP,VGP' 'VGP' 'DTOL,VGP' 'DTOL,VGP' 'DTOL,VGP'\n",
      " 'VGP' 'VGP' 'DTOL,VGP' 'VGP' 'VGP' 'VGP' 'DTOL,VGP' 'VGP' 'VGP' 'VGP'\n",
      " 'VGP' 'VGP' 'DTOL,VGP' 'VGP' 'VGP' 'VGP' 'VGP' 'VGP' 'VGP' 'ToL,VGP'\n",
      " 'VGP' 'VGP' 'VGP' 'VGP' 'VGP' 'VGP' 'DTOL,VGP' 'VGP' 'VGP' 'OG,VGP' 'VGP'\n",
      " 'VGP' 'VGP' 'VGP' 'VGP' 'OG,VGP' 'VGP' 'VGP' 'VGP' 'OG,VGP' 'VGP' 'VGP'\n",
      " 'DTOL,VGP' 'VGP' 'VGP' 'VGP,YGG' 'VGP' 'VGP' 'VGP' 'VGP' '25GP,VGP' 'VGP'\n",
      " 'VGP' 'VGP' 'VGP' 'VGP' 'VGP' 'VGP' 'VGP' 'VGP' 'VGP' 'VGP' 'VGP' 'VGP'\n",
      " 'DTOL,VGP' '25GP,VGP' 'Individual,VGP']' has dtype incompatible with float64, please explicitly cast to a compatible dtype first.\n",
      "  vgp_df.loc[vgp_df['sample_acquired'] == vgp_df['all_projects'], 'sample_collected'] = vgp_df['all_projects']\n"
     ]
    }
   ],
   "source": [
    "possible_seq_status = [\"sample_collected\",\"sample_acquired\",\"in_progress\",\"data_generation\",\"in_assembly\",\"insdc_submitted\",\"open\",\"insdc_open\",\"published\"]\n",
    "\n",
    "# Create new columns using possible sequencing status\n",
    "for item in possible_seq_status:\n",
    "    if item not in vgp_df:\n",
    "        vgp_df[item] = np.nan\n",
    "\n",
    "# Map the existing sequencing status column to the GoaT status ontology\n",
    "status_to_map = {\n",
    "                '0': \"\",\n",
    "                '1': \"sample_collected\",\n",
    "                '2': \"\",\n",
    "                '3': \"in_progress\",\n",
    "                '4': \"open\",\n",
    "                '5': \"open\",\n",
    "                }\n",
    "\n",
    "vgp_df['sequencing_status'] = vgp_df['status'].map(status_to_map)\n",
    "\n",
    "# Map existing status for specific project combination to each status columns\n",
    "for item in possible_seq_status:\n",
    "    vgp_df.loc[vgp_df['sequencing_status'] == item, item] = vgp_df['all_projects']\n",
    "\n",
    "# Populate the status columns with the project names based on the hierarchy of the status\n",
    "vgp_df.loc[vgp_df[\"published\"] == vgp_df['all_projects'], \"insdc_open\"] = vgp_df['all_projects']\n",
    "vgp_df.loc[vgp_df['insdc_open'] == vgp_df['all_projects'], 'open'] = vgp_df['all_projects']\n",
    "vgp_df.loc[vgp_df['open'] == vgp_df['all_projects'], 'in_progress'] = vgp_df['all_projects']\n",
    "vgp_df.loc[vgp_df['data_generation'] == vgp_df['all_projects'], 'in_progress'] = vgp_df['all_projects']\n",
    "vgp_df.loc[vgp_df['in_assembly'] == vgp_df['all_projects'], 'in_progress'] = vgp_df['all_projects']\n",
    "vgp_df.loc[vgp_df['in_progress'] == vgp_df['all_projects'], 'sample_acquired'] = vgp_df['all_projects']\n",
    "vgp_df.loc[vgp_df['sample_acquired'] == vgp_df['all_projects'], 'sample_collected'] = vgp_df['all_projects']\n",
    "\n",
    "print(\"Generating VGP_Ordinal_Phase1_plus.tsv file...\")\n",
    "vgp_df.to_csv(\"tsv/VGP_Ordinal_Phase1_plus_20250321.tsv\",sep=\"\\t\", index=False)"
   ]
  }
 ],
 "metadata": {
  "kernelspec": {
   "display_name": "myenvironment",
   "language": "python",
   "name": "python3"
  },
  "language_info": {
   "codemirror_mode": {
    "name": "ipython",
    "version": 3
   },
   "file_extension": ".py",
   "mimetype": "text/x-python",
   "name": "python",
   "nbconvert_exporter": "python",
   "pygments_lexer": "ipython3",
   "version": "3.12.7"
  }
 },
 "nbformat": 4,
 "nbformat_minor": 2
}
